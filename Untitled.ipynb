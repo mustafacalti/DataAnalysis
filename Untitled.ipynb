{
 "cells": [
  {
   "cell_type": "code",
   "execution_count": 2,
   "id": "20cd1ec5-8f94-43b4-9bc5-e331cf0a9376",
   "metadata": {},
   "outputs": [
    {
     "data": {
      "text/html": [
       "<div>\n",
       "<style scoped>\n",
       "    .dataframe tbody tr th:only-of-type {\n",
       "        vertical-align: middle;\n",
       "    }\n",
       "\n",
       "    .dataframe tbody tr th {\n",
       "        vertical-align: top;\n",
       "    }\n",
       "\n",
       "    .dataframe thead th {\n",
       "        text-align: right;\n",
       "    }\n",
       "</style>\n",
       "<table border=\"1\" class=\"dataframe\">\n",
       "  <thead>\n",
       "    <tr style=\"text-align: right;\">\n",
       "      <th></th>\n",
       "      <th>PassengerId</th>\n",
       "      <th>Survived</th>\n",
       "      <th>Pclass</th>\n",
       "      <th>Name</th>\n",
       "      <th>Sex</th>\n",
       "      <th>Age</th>\n",
       "      <th>SibSp</th>\n",
       "      <th>Parch</th>\n",
       "      <th>Ticket</th>\n",
       "      <th>Fare</th>\n",
       "      <th>Cabin</th>\n",
       "      <th>Embarked</th>\n",
       "    </tr>\n",
       "  </thead>\n",
       "  <tbody>\n",
       "    <tr>\n",
       "      <th>0</th>\n",
       "      <td>1</td>\n",
       "      <td>0</td>\n",
       "      <td>3</td>\n",
       "      <td>Braund, Mr. Owen Harris</td>\n",
       "      <td>male</td>\n",
       "      <td>22.0</td>\n",
       "      <td>1</td>\n",
       "      <td>0</td>\n",
       "      <td>A/5 21171</td>\n",
       "      <td>7.2500</td>\n",
       "      <td>NaN</td>\n",
       "      <td>S</td>\n",
       "    </tr>\n",
       "    <tr>\n",
       "      <th>1</th>\n",
       "      <td>2</td>\n",
       "      <td>1</td>\n",
       "      <td>1</td>\n",
       "      <td>Cumings, Mrs. John Bradley (Florence Briggs Th...</td>\n",
       "      <td>female</td>\n",
       "      <td>38.0</td>\n",
       "      <td>1</td>\n",
       "      <td>0</td>\n",
       "      <td>PC 17599</td>\n",
       "      <td>71.2833</td>\n",
       "      <td>C85</td>\n",
       "      <td>C</td>\n",
       "    </tr>\n",
       "    <tr>\n",
       "      <th>2</th>\n",
       "      <td>3</td>\n",
       "      <td>1</td>\n",
       "      <td>3</td>\n",
       "      <td>Heikkinen, Miss. Laina</td>\n",
       "      <td>female</td>\n",
       "      <td>26.0</td>\n",
       "      <td>0</td>\n",
       "      <td>0</td>\n",
       "      <td>STON/O2. 3101282</td>\n",
       "      <td>7.9250</td>\n",
       "      <td>NaN</td>\n",
       "      <td>S</td>\n",
       "    </tr>\n",
       "    <tr>\n",
       "      <th>3</th>\n",
       "      <td>4</td>\n",
       "      <td>1</td>\n",
       "      <td>1</td>\n",
       "      <td>Futrelle, Mrs. Jacques Heath (Lily May Peel)</td>\n",
       "      <td>female</td>\n",
       "      <td>35.0</td>\n",
       "      <td>1</td>\n",
       "      <td>0</td>\n",
       "      <td>113803</td>\n",
       "      <td>53.1000</td>\n",
       "      <td>C123</td>\n",
       "      <td>S</td>\n",
       "    </tr>\n",
       "    <tr>\n",
       "      <th>4</th>\n",
       "      <td>5</td>\n",
       "      <td>0</td>\n",
       "      <td>3</td>\n",
       "      <td>Allen, Mr. William Henry</td>\n",
       "      <td>male</td>\n",
       "      <td>35.0</td>\n",
       "      <td>0</td>\n",
       "      <td>0</td>\n",
       "      <td>373450</td>\n",
       "      <td>8.0500</td>\n",
       "      <td>NaN</td>\n",
       "      <td>S</td>\n",
       "    </tr>\n",
       "  </tbody>\n",
       "</table>\n",
       "</div>"
      ],
      "text/plain": [
       "   PassengerId  Survived  Pclass  \\\n",
       "0            1         0       3   \n",
       "1            2         1       1   \n",
       "2            3         1       3   \n",
       "3            4         1       1   \n",
       "4            5         0       3   \n",
       "\n",
       "                                                Name     Sex   Age  SibSp  \\\n",
       "0                            Braund, Mr. Owen Harris    male  22.0      1   \n",
       "1  Cumings, Mrs. John Bradley (Florence Briggs Th...  female  38.0      1   \n",
       "2                             Heikkinen, Miss. Laina  female  26.0      0   \n",
       "3       Futrelle, Mrs. Jacques Heath (Lily May Peel)  female  35.0      1   \n",
       "4                           Allen, Mr. William Henry    male  35.0      0   \n",
       "\n",
       "   Parch            Ticket     Fare Cabin Embarked  \n",
       "0      0         A/5 21171   7.2500   NaN        S  \n",
       "1      0          PC 17599  71.2833   C85        C  \n",
       "2      0  STON/O2. 3101282   7.9250   NaN        S  \n",
       "3      0            113803  53.1000  C123        S  \n",
       "4      0            373450   8.0500   NaN        S  "
      ]
     },
     "execution_count": 2,
     "metadata": {},
     "output_type": "execute_result"
    }
   ],
   "source": [
    "import numpy as np\n",
    "import pandas as pd\n",
    "import matplotlib.pyplot as plt\n",
    "import seaborn as sns\n",
    "\n",
    "df = pd.read_csv(\"train.csv\")\n",
    "df.head() #İlk 5 veriyi görelim.\n",
    "#Verimizi tanıyarak keşfe başlayalım. \n",
    "#PassengerId :  verimizdeki yolcuları unique'leştiren, 1'den başlayıp 891'e kadar gidecek olan sıralı özellik.\n",
    "#Survived : Bir yolcunun kaza sonrasında hayatta kalıp kalmadığını belirten (1 ve 0) özellik.\n",
    "#Pclass : Yolcunun aldığı biletin sınıfını belirten (1: 1st class, 2: 2nd class, 3: 3rd class) özellik.\n",
    "#Sex: Yolcunun cinsiyetini belirten özellik.\n",
    "#Age: Yolcunun yaşını belirten özellik.\n",
    "#SibSp : Kişinin yolculuk yapan çocuk sayısı\n",
    "#Parch : Kişinin yolculuk yapan ebeveyn sayısı\n",
    "#Ticket: Kişinin bilet numarası.\n",
    "#Fare: Bilet Ücreti\n",
    "#Cabin: Kişinin bulunduğu kabinin numarası.\n",
    "#Embarked: Kişinin gemiye bindiği liman. (C = Cherbourg, Q = Queenstown, S = Southampton)"
   ]
  },
  {
   "cell_type": "code",
   "execution_count": 3,
   "id": "822c2d09",
   "metadata": {},
   "outputs": [],
   "source": [
    "import matplotlib.pyplot as plt\n",
    "import seaborn as sns"
   ]
  },
  {
   "cell_type": "code",
   "execution_count": 4,
   "id": "5eccdaab-55e4-4078-96ff-651b87b314f9",
   "metadata": {},
   "outputs": [
    {
     "data": {
      "text/html": [
       "<div>\n",
       "<style scoped>\n",
       "    .dataframe tbody tr th:only-of-type {\n",
       "        vertical-align: middle;\n",
       "    }\n",
       "\n",
       "    .dataframe tbody tr th {\n",
       "        vertical-align: top;\n",
       "    }\n",
       "\n",
       "    .dataframe thead th {\n",
       "        text-align: right;\n",
       "    }\n",
       "</style>\n",
       "<table border=\"1\" class=\"dataframe\">\n",
       "  <thead>\n",
       "    <tr style=\"text-align: right;\">\n",
       "      <th></th>\n",
       "      <th>PassengerId</th>\n",
       "      <th>Pclass</th>\n",
       "      <th>Name</th>\n",
       "      <th>Sex</th>\n",
       "      <th>Age</th>\n",
       "      <th>SibSp</th>\n",
       "      <th>Parch</th>\n",
       "      <th>Ticket</th>\n",
       "      <th>Fare</th>\n",
       "      <th>Cabin</th>\n",
       "      <th>Embarked</th>\n",
       "    </tr>\n",
       "  </thead>\n",
       "  <tbody>\n",
       "    <tr>\n",
       "      <th>0</th>\n",
       "      <td>892</td>\n",
       "      <td>3</td>\n",
       "      <td>Kelly, Mr. James</td>\n",
       "      <td>male</td>\n",
       "      <td>34.5</td>\n",
       "      <td>0</td>\n",
       "      <td>0</td>\n",
       "      <td>330911</td>\n",
       "      <td>7.8292</td>\n",
       "      <td>NaN</td>\n",
       "      <td>Q</td>\n",
       "    </tr>\n",
       "    <tr>\n",
       "      <th>1</th>\n",
       "      <td>893</td>\n",
       "      <td>3</td>\n",
       "      <td>Wilkes, Mrs. James (Ellen Needs)</td>\n",
       "      <td>female</td>\n",
       "      <td>47.0</td>\n",
       "      <td>1</td>\n",
       "      <td>0</td>\n",
       "      <td>363272</td>\n",
       "      <td>7.0000</td>\n",
       "      <td>NaN</td>\n",
       "      <td>S</td>\n",
       "    </tr>\n",
       "    <tr>\n",
       "      <th>2</th>\n",
       "      <td>894</td>\n",
       "      <td>2</td>\n",
       "      <td>Myles, Mr. Thomas Francis</td>\n",
       "      <td>male</td>\n",
       "      <td>62.0</td>\n",
       "      <td>0</td>\n",
       "      <td>0</td>\n",
       "      <td>240276</td>\n",
       "      <td>9.6875</td>\n",
       "      <td>NaN</td>\n",
       "      <td>Q</td>\n",
       "    </tr>\n",
       "    <tr>\n",
       "      <th>3</th>\n",
       "      <td>895</td>\n",
       "      <td>3</td>\n",
       "      <td>Wirz, Mr. Albert</td>\n",
       "      <td>male</td>\n",
       "      <td>27.0</td>\n",
       "      <td>0</td>\n",
       "      <td>0</td>\n",
       "      <td>315154</td>\n",
       "      <td>8.6625</td>\n",
       "      <td>NaN</td>\n",
       "      <td>S</td>\n",
       "    </tr>\n",
       "    <tr>\n",
       "      <th>4</th>\n",
       "      <td>896</td>\n",
       "      <td>3</td>\n",
       "      <td>Hirvonen, Mrs. Alexander (Helga E Lindqvist)</td>\n",
       "      <td>female</td>\n",
       "      <td>22.0</td>\n",
       "      <td>1</td>\n",
       "      <td>1</td>\n",
       "      <td>3101298</td>\n",
       "      <td>12.2875</td>\n",
       "      <td>NaN</td>\n",
       "      <td>S</td>\n",
       "    </tr>\n",
       "  </tbody>\n",
       "</table>\n",
       "</div>"
      ],
      "text/plain": [
       "   PassengerId  Pclass                                          Name     Sex  \\\n",
       "0          892       3                              Kelly, Mr. James    male   \n",
       "1          893       3              Wilkes, Mrs. James (Ellen Needs)  female   \n",
       "2          894       2                     Myles, Mr. Thomas Francis    male   \n",
       "3          895       3                              Wirz, Mr. Albert    male   \n",
       "4          896       3  Hirvonen, Mrs. Alexander (Helga E Lindqvist)  female   \n",
       "\n",
       "    Age  SibSp  Parch   Ticket     Fare Cabin Embarked  \n",
       "0  34.5      0      0   330911   7.8292   NaN        Q  \n",
       "1  47.0      1      0   363272   7.0000   NaN        S  \n",
       "2  62.0      0      0   240276   9.6875   NaN        Q  \n",
       "3  27.0      0      0   315154   8.6625   NaN        S  \n",
       "4  22.0      1      1  3101298  12.2875   NaN        S  "
      ]
     },
     "execution_count": 4,
     "metadata": {},
     "output_type": "execute_result"
    }
   ],
   "source": [
    "test_data = pd.read_csv(\"test.csv\")\n",
    "test_data.head()\n",
    "#Modelimizi oluşuturduktan sonra test edeceğimiz veriyi de yükleyelim."
   ]
  },
  {
   "cell_type": "code",
   "execution_count": 5,
   "id": "1efaa3b3",
   "metadata": {},
   "outputs": [
    {
     "name": "stdout",
     "output_type": "stream",
     "text": [
      "% of women who survived: 0.7420382165605095\n",
      "% of women who survived: 0.18890814558058924\n"
     ]
    }
   ],
   "source": [
    "#Exploring Patterns\n",
    "#'Cinsiyet' özelliği, kişilerin kurtulmasında fark yaratan, belirleyici bir özellik mi? Bunu keşfedelim.\n",
    "\n",
    "women = df.loc[df.Sex == 'female'][\"Survived\"] #Burada cinsiyeti kadin olanlarin survived ozelligini cekiyoruz ve women degiskenine atiyoruz.\n",
    "rate_women = sum(women)/len(women) #Sum(women): Kişi 'survive' olduysa yani kurtulduysa 1, kurtulmadıysa 0. Bunun toplamını bulmak, toplamda kurtulan kişi sayısını bulmak demektir.\n",
    "#len(women) ise toplam kadın sayısını verir.\n",
    "\n",
    "print(\"% of women who survived:\", rate_women)\n",
    "\n",
    "men = df.loc[df.Sex == 'male'][\"Survived\"] #Kadınlar için yaptığımızın aynısını erkekler için yapalım.\n",
    "rate_men = sum(men)/len(men)\n",
    "print(\"% of women who survived:\", rate_men)"
   ]
  },
  {
   "cell_type": "markdown",
   "id": "75b7ed4f",
   "metadata": {},
   "source": [
    "Kadınlar %75 oranında kurtulurken erkekler ise yalnızca %18 oranında kurtulmuş. Cinsiyetin belirleyici bir özellik olduğunu söyleyebiliriz."
   ]
  },
  {
   "cell_type": "code",
   "execution_count": 6,
   "id": "8b93b431",
   "metadata": {},
   "outputs": [
    {
     "name": "stdout",
     "output_type": "stream",
     "text": [
      "Max age: 80.0   Min age: 0.42\n"
     ]
    }
   ],
   "source": [
    "ages = df['Age']\n",
    "maxAge = ages.max()\n",
    "minAge = ages.min()\n",
    "print(f\"Max age: {maxAge}   Min age: {minAge}\")"
   ]
  },
  {
   "cell_type": "markdown",
   "id": "6225cb02",
   "metadata": {},
   "source": [
    "Maximum yaş 80, minimum yaş ise 0. Yaş aralığımızı 10 eşit parçaya bölerek yaşın kurtulma üzerinde etkisi olup olmadığına bakalım."
   ]
  },
  {
   "cell_type": "code",
   "execution_count": 22,
   "id": "91246cd2",
   "metadata": {},
   "outputs": [],
   "source": [
    "bins = np.linspace(0, 80, 6)  # 0 ile 80 arasında 5 eşit aralık oluşturur.\n",
    "\n",
    "labels = [f\"{int(bins[i])}-{int(bins[i+1])}\" for i in range(len(bins)-1)] #Yaş aralıklarına uygun etiketler oluşturuldu.\n",
    "\n",
    "df[\"Age Group\"] = pd.cut(df[\"Age\"], bins=bins, labels=labels)"
   ]
  },
  {
   "cell_type": "code",
   "execution_count": 23,
   "id": "6b1f957a",
   "metadata": {},
   "outputs": [
    {
     "name": "stdout",
     "output_type": "stream",
     "text": [
      "Age Group\n",
      "0-16     0.550000\n",
      "16-32    0.369942\n",
      "32-48    0.404255\n",
      "48-64    0.434783\n",
      "64-80    0.090909\n",
      "Name: Survived, dtype: float64\n"
     ]
    },
    {
     "name": "stderr",
     "output_type": "stream",
     "text": [
      "C:\\Users\\Eren\\AppData\\Local\\Temp\\ipykernel_9904\\1038025897.py:1: FutureWarning: The default of observed=False is deprecated and will be changed to True in a future version of pandas. Pass observed=False to retain current behavior or observed=True to adopt the future default and silence this warning.\n",
      "  survival_rate = df.groupby(\"Age Group\")[\"Survived\"].mean()\n"
     ]
    }
   ],
   "source": [
    "survival_rate = df.groupby(\"Age Group\")[\"Survived\"].mean()\n",
    "print(survival_rate)"
   ]
  },
  {
   "cell_type": "markdown",
   "id": "47d66744",
   "metadata": {},
   "source": [
    "Yaş aralıklarının örneklem sayısına bakarak bunun yanıltıcı bir veri olup olmadığını araştıralım."
   ]
  },
  {
   "cell_type": "code",
   "execution_count": 24,
   "id": "021dd2b1",
   "metadata": {},
   "outputs": [
    {
     "data": {
      "text/plain": [
       "Age Group\n",
       "16-32    346\n",
       "32-48    188\n",
       "0-16     100\n",
       "48-64     69\n",
       "64-80     11\n",
       "Name: count, dtype: int64"
      ]
     },
     "execution_count": 24,
     "metadata": {},
     "output_type": "execute_result"
    }
   ],
   "source": [
    "df[\"Age Group\"].value_counts()"
   ]
  },
  {
   "cell_type": "markdown",
   "id": "cd8c3620",
   "metadata": {},
   "source": [
    "Özellikle 64 yaşın altındaki kişilerde yaş aralığı belirleyici bir özellik olarak kullanılabilir. ✅ \n",
    "Ki-kare testi ile bir kontrol daha yapalım."
   ]
  },
  {
   "cell_type": "code",
   "execution_count": 21,
   "id": "fdebd765",
   "metadata": {},
   "outputs": [
    {
     "name": "stdout",
     "output_type": "stream",
     "text": [
      "p-değeri: 0.06756345501651245\n"
     ]
    }
   ],
   "source": [
    "from scipy.stats import chi2_contingency\n",
    "\n",
    "contingency_table = pd.crosstab(df[\"Age Group\"], df[\"Survived\"])\n",
    "chi2, p, dof, expected = chi2_contingency(contingency_table)\n",
    "print(f\"p-değeri: {p}\")"
   ]
  },
  {
   "cell_type": "markdown",
   "id": "8d99021f",
   "metadata": {},
   "source": [
    "p = 0.00194 çıktığı için, yaş gruplarının kurtulma oranı üzerinde anlamlı bir etkisi var! 🎉"
   ]
  },
  {
   "cell_type": "markdown",
   "id": "e4f4d8f7",
   "metadata": {},
   "source": [
    "Kişinin sahip olduğu Kardeş ve Eş sayısının(SibSp) kurtulması üzerindeki etkisine bakalım."
   ]
  },
  {
   "cell_type": "code",
   "execution_count": 11,
   "id": "78353617",
   "metadata": {},
   "outputs": [
    {
     "data": {
      "text/plain": [
       "SibSp\n",
       "0    0.345395\n",
       "1    0.535885\n",
       "2    0.464286\n",
       "3    0.250000\n",
       "4    0.166667\n",
       "5    0.000000\n",
       "8    0.000000\n",
       "Name: Survived, dtype: float64"
      ]
     },
     "execution_count": 11,
     "metadata": {},
     "output_type": "execute_result"
    }
   ],
   "source": [
    "df.groupby(\"SibSp\")[\"Survived\"].mean()"
   ]
  },
  {
   "cell_type": "code",
   "execution_count": 12,
   "id": "603193ab",
   "metadata": {},
   "outputs": [
    {
     "name": "stdout",
     "output_type": "stream",
     "text": [
      "p-değeri: 1.5585810465902147e-06\n"
     ]
    }
   ],
   "source": [
    "\n",
    "contingency_table = pd.crosstab(df[\"SibSp\"], df[\"Survived\"])\n",
    "chi2, p, dof, expected = chi2_contingency(contingency_table)\n",
    "print(f\"p-değeri: {p}\")"
   ]
  },
  {
   "cell_type": "markdown",
   "id": "0e85ddfd",
   "metadata": {},
   "source": [
    "SibSp değeri kendi başına ayırt edici bir özellik değil. ❌"
   ]
  },
  {
   "cell_type": "code",
   "execution_count": 13,
   "id": "492c56c8",
   "metadata": {},
   "outputs": [
    {
     "name": "stdout",
     "output_type": "stream",
     "text": [
      "Minimum Ücret: 0.0, Maksimum Ücret: 512.3292\n"
     ]
    }
   ],
   "source": [
    "min_fare = df[\"Fare\"].min()\n",
    "max_fare = df[\"Fare\"].max()\n",
    "print(f\"Minimum Ücret: {min_fare}, Maksimum Ücret: {max_fare}\")\n",
    "\n",
    "bins = np.linspace(min_fare, max_fare, 4)  # 3 eşit aralık\n",
    "df[\"Fare Group\"] = pd.cut(df[\"Fare\"], bins=bins, labels=[f\"{bins[i]:.2f}-{bins[i+1]:.2f}\" for i in range(len(bins)-1)])"
   ]
  },
  {
   "cell_type": "code",
   "execution_count": 14,
   "id": "183b3159",
   "metadata": {},
   "outputs": [
    {
     "name": "stdout",
     "output_type": "stream",
     "text": [
      "Fare Group\n",
      "0.00-170.78      0.382009\n",
      "170.78-341.55    0.647059\n",
      "341.55-512.33    1.000000\n",
      "Name: Survived, dtype: float64\n"
     ]
    },
    {
     "name": "stderr",
     "output_type": "stream",
     "text": [
      "C:\\Users\\Eren\\AppData\\Local\\Temp\\ipykernel_9904\\239071266.py:1: FutureWarning: The default of observed=False is deprecated and will be changed to True in a future version of pandas. Pass observed=False to retain current behavior or observed=True to adopt the future default and silence this warning.\n",
      "  fare_survival = df.groupby(\"Fare Group\")[\"Survived\"].mean()\n"
     ]
    }
   ],
   "source": [
    "fare_survival = df.groupby(\"Fare Group\")[\"Survived\"].mean()\n",
    "print(fare_survival)"
   ]
  },
  {
   "cell_type": "code",
   "execution_count": 15,
   "id": "bde4d603",
   "metadata": {},
   "outputs": [
    {
     "name": "stdout",
     "output_type": "stream",
     "text": [
      "p-değeri: 0.008032350298711032\n",
      "Gruplardaki kisi sayilari: \n",
      "Fare Group\n",
      "0.00-170.78      856\n",
      "170.78-341.55     17\n",
      "341.55-512.33      3\n",
      "Name: count, dtype: int64\n"
     ]
    }
   ],
   "source": [
    "contingency_table = pd.crosstab(df[\"Fare Group\"], df[\"Survived\"])\n",
    "chi2, p, dof, expected = chi2_contingency(contingency_table)\n",
    "print(f\"p-değeri: {p}\")\n",
    "\n",
    "print(f\"Gruplardaki kisi sayilari: \\n{df[\"Fare Group\"].value_counts()}\")\n"
   ]
  },
  {
   "cell_type": "markdown",
   "id": "b02378e6",
   "metadata": {},
   "source": [
    "Ancak 3 eşit parçaya böldüğümüzde ki kare değeri bizim için anlamlı bir değere ulaştı ancak burada da aşırı dengesiz bir dağılım oldu. Fare Group kullanılabilir bir özellik değil."
   ]
  },
  {
   "cell_type": "code",
   "execution_count": 16,
   "id": "7e84cbde",
   "metadata": {},
   "outputs": [
    {
     "data": {
      "text/plain": [
       "Fare Group\n",
       "0.00-170.78      856\n",
       "170.78-341.55     17\n",
       "341.55-512.33      3\n",
       "Name: count, dtype: int64"
      ]
     },
     "execution_count": 16,
     "metadata": {},
     "output_type": "execute_result"
    }
   ],
   "source": [
    "df[\"Fare Group\"].value_counts()"
   ]
  },
  {
   "cell_type": "markdown",
   "id": "90f2c9a6",
   "metadata": {},
   "source": [
    "Ki-kare değeri anlamlı bir değere ulaşsa da gruplara düşen örneklem sayıları çok dengesiz oldu."
   ]
  },
  {
   "cell_type": "code",
   "execution_count": null,
   "id": "bf3aed82",
   "metadata": {},
   "outputs": [],
   "source": []
  }
 ],
 "metadata": {
  "kernelspec": {
   "display_name": "base",
   "language": "python",
   "name": "python3"
  },
  "language_info": {
   "codemirror_mode": {
    "name": "ipython",
    "version": 3
   },
   "file_extension": ".py",
   "mimetype": "text/x-python",
   "name": "python",
   "nbconvert_exporter": "python",
   "pygments_lexer": "ipython3",
   "version": "3.12.7"
  }
 },
 "nbformat": 4,
 "nbformat_minor": 5
}
